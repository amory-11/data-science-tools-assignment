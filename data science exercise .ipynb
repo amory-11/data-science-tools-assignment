{
  "metadata": {
    "kernelspec": {
      "name": "xpython",
      "display_name": "Python 3.13 (XPython)",
      "language": "python"
    },
    "language_info": {
      "file_extension": ".py",
      "mimetype": "text/x-python",
      "name": "python",
      "version": "3.13.1"
    }
  },
  "nbformat_minor": 5,
  "nbformat": 4,
  "cells": [
    {
      "id": "a45c809f-42b4-4855-bfde-ac5ac889a0f3",
      "cell_type": "markdown",
      "source": "# Data science tools and ecosystem",
      "metadata": {}
    },
    {
      "id": "c1e8cf7d-5ecf-4d87-a82f-7031a860bc9d",
      "cell_type": "markdown",
      "source": "In this notebook, Data Science Tools and Ecosystem are summarized.\n\n",
      "metadata": {}
    },
    {
      "id": "b4fd066e-fef5-4f51-96a0-d4907d0a83da",
      "cell_type": "markdown",
      "source": "Some of the popular languages that Data Scientists use are:\n\n1. python\n2. R\n3. Sql",
      "metadata": {}
    },
    {
      "id": "2bbbcce5-c959-4d59-9288-326dde9ad9bc",
      "cell_type": "markdown",
      "source": "Some of the commonly used libraries used by Data Scientists include:\n1. pandas\n2. numpy\n3. matplotlib",
      "metadata": {}
    },
    {
      "id": "547062af-ce95-4bd3-bf4d-a2d4f8165c92",
      "cell_type": "markdown",
      "source": "| Data Science Tools |\n|--------------------|\n| Jupyter Notebook   |\n| RStudio            |\n| Apache Zeppelin    |\n",
      "metadata": {}
    },
    {
      "id": "7a13251f-da2c-497f-b1aa-6f0824c882d9",
      "cell_type": "markdown",
      "source": "### Below are a few examples of evaluating arithmetic expressions in Python.\n# Addition\n3 + 2\n\n# Multiplication\n4 * 5\n\n# Division\n10 / 2\n\n\n\n",
      "metadata": {}
    },
    {
      "id": "5f2db802-2a34-4192-b0dc-bd5d39314c11",
      "cell_type": "code",
      "source": "(3*4)+5",
      "metadata": {
        "trusted": true
      },
      "outputs": [
        {
          "execution_count": 1,
          "output_type": "execute_result",
          "data": {
            "text/plain": "17"
          },
          "metadata": {}
        }
      ],
      "execution_count": 1
    },
    {
      "id": "ccd89963-8e19-4f45-b6ad-c5802f5235c1",
      "cell_type": "code",
      "source": "# This will convert 200 minutes to hours by diving by 60.\n200/60",
      "metadata": {
        "trusted": true
      },
      "outputs": [
        {
          "execution_count": 2,
          "output_type": "execute_result",
          "data": {
            "text/plain": "3.3333333333333335"
          },
          "metadata": {}
        }
      ],
      "execution_count": 2
    },
    {
      "id": "aaf90a2f-e556-43a4-a808-71f54235e599",
      "cell_type": "markdown",
      "source": "**Objectives:**\n\n- List popular languages for Data Science  \n- Identify commonly used libraries in Data Science  \n- Create and format tables using Markdown  \n- Demonstrate arithmetic expression examples in Python  \n- Introduce development environment tools for Data Science  \n",
      "metadata": {}
    },
    {
      "id": "c48d0d10-1e19-41ee-b2de-7d0164f333b5",
      "cell_type": "markdown",
      "source": "## Author:\n## Omar Hazem",
      "metadata": {}
    },
    {
      "id": "b8b5e57f-cdab-400b-96fb-f503db2b5c14",
      "cell_type": "code",
      "source": "",
      "metadata": {
        "trusted": true
      },
      "outputs": [],
      "execution_count": null
    }
  ]
}