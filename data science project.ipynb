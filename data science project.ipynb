{
 "cells": [
  {
   "cell_type": "markdown",
   "id": "6a150dd2-a8f8-43e8-a4b5-d5034a3ca3a6",
   "metadata": {},
   "source": [
    " # Data science tools and ecosystem"
   ]
  },
  {
   "cell_type": "markdown",
   "id": "2baeab85-ef3c-4337-abef-30a6cdd0bb9d",
   "metadata": {},
   "source": [
    "In this notebook data science tools and ecosystem are summarized"
   ]
  },
  {
   "cell_type": "markdown",
   "id": "e9b4dec5-56e5-4746-896f-9bd984b7460b",
   "metadata": {},
   "source": [
    "Some of the popular languages that Data Scientists use are:\n",
    "1. python\n",
    "2. R\n",
    "3. SQL"
   ]
  },
  {
   "cell_type": "markdown",
   "id": "1ec466e2-7857-419a-8ac6-c6cecce4fa89",
   "metadata": {},
   "source": [
    "Some of the commonly used libraries used by Data Scientists include:\n",
    "1. pandas\n",
    "2. numpy\n",
    "3. matplotlib\n"
   ]
  },
  {
   "cell_type": "markdown",
   "id": "f5834f5d-8907-4ea0-a9ad-24c68b6a317d",
   "metadata": {},
   "source": [
    "| Data Science Tools |\n",
    "|--------------------|\n",
    "| Jupyter Notebook   |\n",
    "| RStudio            |\n",
    "| Apache Zeppelin    |\n"
   ]
  },
  {
   "cell_type": "markdown",
   "id": "5db31bdc-5dde-4158-a7d8-7ea22d57720a",
   "metadata": {},
   "source": [
    "### Below are a few examples of evaluating arithmetic expressions in Python.\n",
    "# Addition\n",
    "3 + 2\n",
    "\n",
    "# Multiplication\n",
    "4 * 5\n",
    "\n",
    "# Division\n",
    "10 / 2"
   ]
  },
  {
   "cell_type": "code",
   "execution_count": 3,
   "id": "01d53b39-b523-4458-92a3-00249fffef1c",
   "metadata": {},
   "outputs": [
    {
     "data": {
      "text/plain": [
       "17"
      ]
     },
     "execution_count": 3,
     "metadata": {},
     "output_type": "execute_result"
    }
   ],
   "source": [
    "(3*4)+5"
   ]
  },
  {
   "cell_type": "code",
   "execution_count": 4,
   "id": "e2d9e8bb-e873-4ee1-88dc-ac5233d1ec14",
   "metadata": {},
   "outputs": [
    {
     "data": {
      "text/plain": [
       "3.3333333333333335"
      ]
     },
     "execution_count": 4,
     "metadata": {},
     "output_type": "execute_result"
    }
   ],
   "source": [
    "# This will convert 200 minutes to hours by diving by 60.\n",
    "200/60"
   ]
  },
  {
   "cell_type": "markdown",
   "id": "f3e8bdb2-cd63-45cc-89bf-7d7e228bbf39",
   "metadata": {},
   "source": [
    "**Objectives:**\n",
    "\n",
    "- List popular languages for Data Science  \n",
    "- Identify commonly used libraries in Data Science  \n",
    "- Create and format tables using Markdown  \n",
    "- Demonstrate arithmetic expression examples in Python  \n",
    "- Introduce development environment tools for Data Science  \n"
   ]
  },
  {
   "cell_type": "markdown",
   "id": "4babe9cf-bfe4-40ed-8093-a11a4e43740f",
   "metadata": {},
   "source": [
    "## Author:\n",
    "## Omar Hazem"
   ]
  }
 ],
 "metadata": {
  "kernelspec": {
   "display_name": "Python [conda env:base] *",
   "language": "python",
   "name": "conda-base-py"
  },
  "language_info": {
   "codemirror_mode": {
    "name": "ipython",
    "version": 3
   },
   "file_extension": ".py",
   "mimetype": "text/x-python",
   "name": "python",
   "nbconvert_exporter": "python",
   "pygments_lexer": "ipython3",
   "version": "3.13.5"
  }
 },
 "nbformat": 4,
 "nbformat_minor": 5
}
